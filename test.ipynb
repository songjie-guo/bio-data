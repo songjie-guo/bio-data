{
 "cells": [
  {
   "cell_type": "code",
   "execution_count": 91,
   "metadata": {},
   "outputs": [],
   "source": [
    "from anarci import anarci\n",
    "num_schm = 'chothia'\n",
    "cdr_schm = 'kabat'\n",
    "if cdr_schm == 'kabat':\n",
    "    H_cutting = [31, 35, 50, 65, 95, 102]\n",
    "    L_cutting = [24, 34, 50, 56, 89, 97]"
   ]
  },
  {
   "cell_type": "code",
   "execution_count": 92,
   "metadata": {},
   "outputs": [],
   "source": [
    "ori_fasta_path = f\"../bio-data/ori_fasta/1a14.fasta\"\n",
    "with open(ori_fasta_path, \"r\") as f:\n",
    "    fastaF = f.readlines()"
   ]
  },
  {
   "cell_type": "code",
   "execution_count": 93,
   "metadata": {},
   "outputs": [
    {
     "data": {
      "text/plain": [
       "['>1A14_1|Chain A[auth N]|NEURAMINIDASE|Influenza A virus (11320)\\n',\n",
       " 'RDFNNLTKGLCTINSWHIYGKDNAVRIGEDSDVLVTREPYVSCDPDECRFYALSQGTTIRGKHSNGTIHDRSQYRALISWPLSSPPTVYNSRVECIGWSSTSCHDGKTRMSICISGPNNNASAVIWYNRRPVTEINTWARNILRTQESECVCHNGVCPVVFTDGSATGPAETRIYYFKEGKILKWEPLAGTAKHIEECSCYGERAEITCTCRDNWQGSNRPVIRIDPVAMTHTSQYICSPVLTDNPRPNDPTVGKCNDPYPGNNNNGVKGFSYLDGVNTWLGRTISIASRSGYEMLKVPNALTDDKSKPTQGQTIVLNTDWSGYSGSFMDYWAEGECYRACFYVELIRGRPKEDKVWWTSNSIVSMCSSTEFLGQWDWPDGAKIEYFL\\n',\n",
       " '>1A14_2|Chain B[auth H]|NC10 FV (HEAVY CHAIN)|Mus musculus (10090)\\n',\n",
       " 'QVQLQQSGAELVKPGASVRMSCKASGYTFTNYNMYWVKQSPGQGLEWIGIFYPGNGDTSYNQKFKDKATLTADKSSNTAYMQLSSLTSEDSAVYYCARSGGSYRYDGGFDYWGQGTTVTV\\n',\n",
       " '>1A14_3|Chain C[auth L]|NC10 FV (LIGHT CHAIN)|Mus musculus (10090)\\n',\n",
       " 'DIELTQTTSSLSASLGDRVTISCRASQDISNYLNWYQQNPDGTVKLLIYYTSNLHSEVPSRFSGSGSGTDYSLTISNLEQEDIATYFCQQDFTLPFTFGGGTAA\\n']"
      ]
     },
     "execution_count": 93,
     "metadata": {},
     "output_type": "execute_result"
    }
   ],
   "source": [
    "fastaF"
   ]
  },
  {
   "cell_type": "code",
   "execution_count": 124,
   "metadata": {},
   "outputs": [
    {
     "name": "stdout",
     "output_type": "stream",
     "text": [
      "[[{'id': 'mouse_K', 'description': '', 'evalue': 8.1e-48, 'bitscore': 152.8, 'bias': 0.9, 'query_start': 0, 'query_end': 102, 'species': 'mouse', 'chain_type': 'K', 'scheme': 'chothia', 'query_name': 'result'}]]\n"
     ]
    }
   ],
   "source": [
    "sequences = [('result', fastaF[5].replace('\\n',''))]\n",
    "results = anarci(sequences, scheme=num_schm, output=False)\n",
    "print((results[1]))\n",
    "\n",
    "\n"
   ]
  },
  {
   "cell_type": "code",
   "execution_count": 95,
   "metadata": {},
   "outputs": [
    {
     "data": {
      "text/plain": [
       "('NYLTW', 'WASTRESGVPDRFTGS', 'PLTFGAGT')"
      ]
     },
     "execution_count": 95,
     "metadata": {},
     "output_type": "execute_result"
    }
   ],
   "source": [
    "H_indices = []\n",
    "for H_cut in H_cutting:\n",
    "    for i, key in enumerate(keys):\n",
    "        if key == str(H_cut):\n",
    "            H_indices.append(i)\n",
    "            break\n",
    "    else:\n",
    "        print(f\"No H_cut found with {H_cut}\")\n",
    "H1 = ''.join(values[H_indices[0]:H_indices[1]+1])\n",
    "H2 = ''.join(values[H_indices[2]:H_indices[3]+1])\n",
    "H3 = ''.join(values[H_indices[4]:H_indices[5]+1])\n",
    "H1,H2,H3"
   ]
  },
  {
   "cell_type": "code",
   "execution_count": 96,
   "metadata": {},
   "outputs": [],
   "source": [
    "chain_info = \"Chains A, B\""
   ]
  },
  {
   "cell_type": "code",
   "execution_count": 97,
   "metadata": {},
   "outputs": [
    {
     "data": {
      "text/plain": [
       "['N', 'H', 'L']"
      ]
     },
     "execution_count": 97,
     "metadata": {},
     "output_type": "execute_result"
    }
   ],
   "source": [
    "import re\n",
    "def get_chain_names(fastaF):\n",
    "    chain_names = []\n",
    "    for i in range(int(len(fastaF)/2)):\n",
    "        chain_info = fastaF[i*2].split(\"|\")[1]\n",
    "        if 'auth' in chain_info:\n",
    "            pattern = r\"\\[auth\\s(\\w)\\]\"\n",
    "            chain_list = re.findall(pattern, chain_info)\n",
    "        else:\n",
    "            chain_list = chain_info.replace(\" \", \"\")\n",
    "            chain_list = re.sub(r'\\[(.*?)\\]','', chain_info).split(',')\n",
    "            chain_list[0] = chain_list[0][-1]\n",
    "        chain_names.append('|'.join(chain_list))\n",
    "    return chain_names\n",
    "get_chain_names(fastaF)\n"
   ]
  }
 ],
 "metadata": {
  "interpreter": {
   "hash": "da11d1ba86373a5171c4183a7152fe9c5a61878dd92a6610d6976dfa8cb3c7e7"
  },
  "kernelspec": {
   "display_name": "Python 3.8.13 ('antibody-data-processing-master')",
   "language": "python",
   "name": "python3"
  },
  "language_info": {
   "codemirror_mode": {
    "name": "ipython",
    "version": 3
   },
   "file_extension": ".py",
   "mimetype": "text/x-python",
   "name": "python",
   "nbconvert_exporter": "python",
   "pygments_lexer": "ipython3",
   "version": "3.8.13"
  },
  "orig_nbformat": 4
 },
 "nbformat": 4,
 "nbformat_minor": 2
}
